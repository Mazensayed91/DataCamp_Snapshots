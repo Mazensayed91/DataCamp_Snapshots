{
 "cells": [
  {
   "cell_type": "code",
   "execution_count": 1,
   "metadata": {},
   "outputs": [],
   "source": [
    "import tensorflow as tf\n",
    "import os\n",
    "import zipfile\n",
    "from os import path, getcwd, chdir\n",
    "\n",
    "path = f\"{getcwd()}/../tmp2/happy-or-sad.zip\"\n",
    "\n",
    "zip_ref = zipfile.ZipFile(path, 'r')\n",
    "zip_ref.extractall(\"/tmp/h-or-s\")\n",
    "zip_ref.close()"
   ]
  },
  {
   "cell_type": "code",
   "execution_count": 11,
   "metadata": {},
   "outputs": [],
   "source": [
    "def train_happy_sad_model():\n",
    "\n",
    "\n",
    "    DESIRED_ACCURACY = 0.999\n",
    "\n",
    "    class MyCallBack(tf.keras.callbacks.Callback):\n",
    "        def on_epoch_end(self, epoch, logs={}):\n",
    "            if(logs.get('acc') >= 0.999):\n",
    "                print(\"Reached 99.9% accuracy so cancelling training!\")\n",
    "                self.model.stop_training = True\n",
    "        \n",
    "\n",
    "    callbacks = MyCallBack()\n",
    "    \n",
    "    # This Code Block should Define and Compile the Model. Please assume the images are 150 X 150 in your implementation.\n",
    "    model = tf.keras.models.Sequential([\n",
    "        tf.keras.layers.Conv2D(32, 3, activation = 'relu', input_shape = (150, 150, 3)),\n",
    "        tf.keras.layers.MaxPooling2D(pool_size = (2, 2)),\n",
    "        tf.keras.layers.Conv2D(64, 3, activation = 'relu'),\n",
    "        tf.keras.layers.MaxPooling2D(pool_size = (2, 2)),\n",
    "        tf.keras.layers.Conv2D(128, 3, activation = 'relu'),\n",
    "        tf.keras.layers.MaxPooling2D(pool_size = (2, 2)),\n",
    "        tf.keras.layers.Flatten(),\n",
    "        tf.keras.layers.Dense(units = 128, activation = tf.nn.relu),\n",
    "        tf.keras.layers.Dense(units = 1, activation = tf.nn.sigmoid)\n",
    "    ])\n",
    "\n",
    "    from tensorflow.keras.optimizers import RMSprop\n",
    "\n",
    "    model.compile(optimizer = RMSprop(lr = 0.001), loss = 'binary_crossentropy', metrics = ['accuracy'])\n",
    "        \n",
    "\n",
    "    from tensorflow.keras.preprocessing.image import ImageDataGenerator\n",
    "\n",
    "    train_datagen = ImageDataGenerator()\n",
    "\n",
    "    # Please use a target_size of 150 X 150.\n",
    "    train_generator = train_datagen.flow_from_directory(\n",
    "        '/tmp/h-or-s',\n",
    "        target_size = (150, 150),\n",
    "        class_mode = 'binary')\n",
    "\n",
    "    # This code block should call model.fit_generator and train for\n",
    "    # a number of epochs.\n",
    "    # model fitting\n",
    "    history = model.fit_generator(\n",
    "            train_generator,\n",
    "            epochs = 20,\n",
    "            callbacks = [callbacks])\n",
    "    # model fitting\n",
    "    return history.history['acc'][-1]"
   ]
  },
  {
   "cell_type": "code",
   "execution_count": 12,
   "metadata": {},
   "outputs": [
    {
     "name": "stdout",
     "output_type": "stream",
     "text": [
      "Found 80 images belonging to 2 classes.\n",
      "Epoch 1/20\n",
      "3/3 [==============================] - 7s 2s/step - loss: 657.1535 - acc: 0.6000\n",
      "Epoch 2/20\n",
      "3/3 [==============================] - 0s 124ms/step - loss: 46.3470 - acc: 0.5250\n",
      "Epoch 3/20\n",
      "3/3 [==============================] - 0s 101ms/step - loss: 10.4173 - acc: 0.5375\n",
      "Epoch 4/20\n",
      "3/3 [==============================] - 0s 103ms/step - loss: 45.2159 - acc: 0.5375\n",
      "Epoch 5/20\n",
      "3/3 [==============================] - 0s 101ms/step - loss: 0.3258 - acc: 0.9000\n",
      "Epoch 6/20\n",
      "3/3 [==============================] - 0s 98ms/step - loss: 0.0352 - acc: 0.9875\n",
      "Epoch 7/20\n",
      "2/3 [===================>..........] - ETA: 0s - loss: 0.0231 - acc: 1.0000Reached 99.9% accuracy so cancelling training!\n",
      "3/3 [==============================] - 0s 127ms/step - loss: 0.0330 - acc: 1.0000\n"
     ]
    },
    {
     "data": {
      "text/plain": [
       "1.0"
      ]
     },
     "execution_count": 12,
     "metadata": {},
     "output_type": "execute_result"
    }
   ],
   "source": [
    "# The Expected output: \"Reached 99.9% accuracy so cancelling training!\"\"\n",
    "train_happy_sad_model()"
   ]
  }
 ],
 "metadata": {
  "coursera": {
   "course_slug": "introduction-tensorflow",
   "graded_item_id": "1kAlw",
   "launcher_item_id": "PNLYD"
  },
  "kernelspec": {
   "display_name": "Python 3",
   "language": "python",
   "name": "python3"
  },
  "language_info": {
   "codemirror_mode": {
    "name": "ipython",
    "version": 3
   },
   "file_extension": ".py",
   "mimetype": "text/x-python",
   "name": "python",
   "nbconvert_exporter": "python",
   "pygments_lexer": "ipython3",
   "version": "3.6.8"
  }
 },
 "nbformat": 4,
 "nbformat_minor": 1
}
