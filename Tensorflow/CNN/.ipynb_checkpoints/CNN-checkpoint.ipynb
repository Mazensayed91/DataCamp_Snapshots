{
 "cells": [
  {
   "cell_type": "code",
   "execution_count": 1,
   "metadata": {},
   "outputs": [],
   "source": [
    "import tensorflow as tf\n",
    "from os import path, getcwd, chdir\n",
    "\n",
    "path = f\"{getcwd()}/../tmp2/mnist.npz\""
   ]
  },
  {
   "cell_type": "code",
   "execution_count": 2,
   "metadata": {},
   "outputs": [],
   "source": [
    "config = tf.ConfigProto()\n",
    "config.gpu_options.allow_growth = True\n",
    "sess = tf.Session(config=config)"
   ]
  },
  {
   "cell_type": "code",
   "execution_count": 35,
   "metadata": {},
   "outputs": [],
   "source": [
    "def train_mnist_conv():\n",
    "\n",
    "    class MyCallBack(tf.keras.callbacks.Callback):\n",
    "        def on_epoch_end(self, epoch, logs={}):\n",
    "            if(logs.get('acc') > 0.998):\n",
    "                print(\"Reached 99.8% accuracy so cancelling training!\")\n",
    "                self.model.stop_training = True\n",
    "\n",
    "    mnist = tf.keras.datasets.mnist\n",
    "    (training_images, training_labels), (test_images, test_labels) = mnist.load_data(path=path)\n",
    "    callback = MyCallBack()\n",
    "    training_images=training_images.reshape(60000, 28, 28, 1)\n",
    "    training_images=training_images / 255.0\n",
    "    test_images = test_images.reshape(10000, 28, 28, 1)\n",
    "    test_images=test_images/255.0\n",
    "\n",
    "    model = tf.keras.models.Sequential([\n",
    "            tf.keras.layers.Conv2D(32, 3, activation = 'relu', input_shape = (28, 28, 1)),\n",
    "            tf.keras.layers.MaxPooling2D(pool_size = (2, 2)),\n",
    "            tf.keras.layers.Conv2D(64, 3, activation = 'relu'),\n",
    "            tf.keras.layers.MaxPooling2D(pool_size = (2, 2)),\n",
    "            tf.keras.layers.Flatten(),\n",
    "            tf.keras.layers.Dense(units = 128, activation = tf.nn.relu),\n",
    "            tf.keras.layers.Dense(units = 10, activation = tf.nn.softmax)\n",
    "    ])\n",
    "\n",
    "    model.compile(optimizer='adam', loss='sparse_categorical_crossentropy', metrics=['accuracy'])\n",
    "    # model fitting\n",
    "    history = model.fit(\n",
    "        training_images, training_labels, epochs = 19, callbacks = [callback]\n",
    "    )\n",
    "    # model fitting\n",
    "    return history.epoch, history.history['acc'][-1]\n",
    "\n"
   ]
  },
  {
   "cell_type": "code",
   "execution_count": 36,
   "metadata": {},
   "outputs": [
    {
     "name": "stdout",
     "output_type": "stream",
     "text": [
      "Epoch 1/19\n",
      "60000/60000 [==============================] - 13s 225us/sample - loss: 0.1313 - acc: 0.9599\n",
      "Epoch 2/19\n",
      "60000/60000 [==============================] - 13s 223us/sample - loss: 0.0440 - acc: 0.9859\n",
      "Epoch 3/19\n",
      "60000/60000 [==============================] - 13s 222us/sample - loss: 0.0292 - acc: 0.9909\n",
      "Epoch 4/19\n",
      "60000/60000 [==============================] - 14s 227us/sample - loss: 0.0210 - acc: 0.9934\n",
      "Epoch 5/19\n",
      "60000/60000 [==============================] - 13s 223us/sample - loss: 0.0166 - acc: 0.9949\n",
      "Epoch 6/19\n",
      "60000/60000 [==============================] - 13s 222us/sample - loss: 0.0130 - acc: 0.9957 - loss: 0.0127\n",
      "Epoch 7/19\n",
      "60000/60000 [==============================] - 14s 227us/sample - loss: 0.0111 - acc: 0.9964\n",
      "Epoch 8/19\n",
      "60000/60000 [==============================] - 13s 225us/sample - loss: 0.0081 - acc: 0.9972\n",
      "Epoch 9/19\n",
      "60000/60000 [==============================] - 14s 230us/sample - loss: 0.0076 - acc: 0.9974\n",
      "Epoch 10/19\n",
      "59520/60000 [============================>.] - ETA: 0s - loss: 0.0057 - acc: 0.9981Reached 99.8% accuracy so cancelling training!\n",
      "60000/60000 [==============================] - 14s 228us/sample - loss: 0.0057 - acc: 0.9981\n"
     ]
    }
   ],
   "source": [
    "_, _ = train_mnist_conv()"
   ]
  }
 ],
 "metadata": {
  "coursera": {
   "course_slug": "introduction-tensorflow",
   "graded_item_id": "ml06H",
   "launcher_item_id": "hQF8A"
  },
  "kernelspec": {
   "display_name": "Python 3",
   "language": "python",
   "name": "python3"
  },
  "language_info": {
   "codemirror_mode": {
    "name": "ipython",
    "version": 3
   },
   "file_extension": ".py",
   "mimetype": "text/x-python",
   "name": "python",
   "nbconvert_exporter": "python",
   "pygments_lexer": "ipython3",
   "version": "3.7.7"
  }
 },
 "nbformat": 4,
 "nbformat_minor": 1
}
